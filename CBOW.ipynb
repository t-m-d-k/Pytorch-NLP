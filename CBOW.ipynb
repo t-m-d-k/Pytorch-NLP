{
 "cells": [
  {
   "cell_type": "code",
   "execution_count": 1,
   "id": "d975f91b",
   "metadata": {},
   "outputs": [],
   "source": [
    "import torch\n",
    "import torch.nn as nn\n",
    "import numpy as np"
   ]
  },
  {
   "cell_type": "code",
   "execution_count": 2,
   "id": "fc047836",
   "metadata": {},
   "outputs": [],
   "source": [
    "from nltk import FreqDist\n",
    "from nltk.corpus import stopwords"
   ]
  },
  {
   "cell_type": "code",
   "execution_count": 3,
   "id": "0b219cf8",
   "metadata": {},
   "outputs": [],
   "source": [
    "\n",
    "\n",
    "text = \"\"\"Man and women are the two genders. Strongest man will be awarded as the king and strongest women will be awarded\n",
    "as the queen. King job is to protect from enemy and queen job is to take care of their people.Enemey used to attack king \n",
    "as he is the most strongest person and queen used to protect his king\"\"\"\n",
    "sample_words = text.split()\n",
    "sample_words = [word for word in sample_words if word not in stopwords.words('english')]\n",
    "text = \" \".join(sample_words)\n",
    "text = text.replace(',','').replace('.','').lower().split()\n",
    "\n"
   ]
  },
  {
   "cell_type": "code",
   "execution_count": 4,
   "id": "ee3d9465",
   "metadata": {},
   "outputs": [
    {
     "data": {
      "text/plain": [
       "['man',\n",
       " 'women',\n",
       " 'two',\n",
       " 'genders',\n",
       " 'strongest',\n",
       " 'man',\n",
       " 'awarded',\n",
       " 'king',\n",
       " 'strongest',\n",
       " 'women',\n",
       " 'awarded',\n",
       " 'queen',\n",
       " 'king',\n",
       " 'job',\n",
       " 'protect',\n",
       " 'enemy',\n",
       " 'queen',\n",
       " 'job',\n",
       " 'take',\n",
       " 'care',\n",
       " 'peopleenemey',\n",
       " 'used',\n",
       " 'attack',\n",
       " 'king',\n",
       " 'strongest',\n",
       " 'person',\n",
       " 'queen',\n",
       " 'used',\n",
       " 'protect',\n",
       " 'king']"
      ]
     },
     "execution_count": 4,
     "metadata": {},
     "output_type": "execute_result"
    }
   ],
   "source": [
    "text"
   ]
  },
  {
   "cell_type": "code",
   "execution_count": 6,
   "id": "58a7e9d4",
   "metadata": {},
   "outputs": [
    {
     "name": "stdout",
     "output_type": "stream",
     "text": [
      "(['two', 'strongest'], 'genders')\n"
     ]
    }
   ],
   "source": [
    "corpus = set(text)\n",
    "corpus_length = len(corpus)\n",
    "\n",
    "word_dict = {}\n",
    "inverse_word_dict = {}\n",
    "\n",
    "for i, word in enumerate(corpus):\n",
    "    word_dict[word] = i\n",
    "    inverse_word_dict[i] = word\n",
    "\n",
    "data = []\n",
    "\n",
    "for i in range(2, len(text) - 2):\n",
    "    sentence = [text[i-2], text[i-1],\n",
    "               text[i+1], text[i+2]]\n",
    "    sentence = [ text[i-1],\n",
    "               text[i+1]]\n",
    "    target = text[i]\n",
    "    data.append((sentence, target))\n",
    "    \n",
    "print(data[1])"
   ]
  },
  {
   "cell_type": "code",
   "execution_count": 8,
   "id": "bfc69f53",
   "metadata": {},
   "outputs": [],
   "source": [
    "embedding_length = 20\n",
    "\n",
    "class CBoW(torch.nn.Module):\n",
    "\n",
    "    def __init__(self, corpus_length, embedding_dim):\n",
    "        super(CBoW, self).__init__()\n",
    "        \n",
    "        self.embeddings = nn.Embedding(corpus_length, embedding_dim)\n",
    "\n",
    "        self.linear1 = nn.Linear(embedding_dim, 64)\n",
    "        self.linear2 = nn.Linear(64, corpus_length)\n",
    "        \n",
    "        self.activation_function1 = nn.ReLU()\n",
    "        self.activation_function2 = nn.LogSoftmax(dim = -1)\n",
    "\n",
    "    def forward(self, inputs):\n",
    "        embeds = sum(self.embeddings(inputs)).view(1,-1)\n",
    "        out = self.linear1(embeds)\n",
    "        out = self.activation_function1(out)\n",
    "        out = self.linear2(out)\n",
    "        out = self.activation_function2(out)\n",
    "        return out\n",
    "\n",
    "    def get_word_emdedding(self, word):\n",
    "        word = torch.LongTensor([word_dict[word]])\n",
    "        return self.embeddings(word).view(1,-1)\n"
   ]
  },
  {
   "cell_type": "code",
   "execution_count": 9,
   "id": "43a64ca2",
   "metadata": {},
   "outputs": [
    {
     "name": "stdout",
     "output_type": "stream",
     "text": [
      "tensor([16,  5])\n"
     ]
    }
   ],
   "source": [
    "model = CBoW(corpus_length, embedding_length)\n",
    "\n",
    "loss_function = nn.NLLLoss()\n",
    "optimizer = torch.optim.SGD(model.parameters(), lr=0.01)\n",
    "\n",
    "def make_sentence_vector(sentence, word_dict):\n",
    "    idxs = [word_dict[w] for w in sentence]\n",
    "    return torch.tensor(idxs, dtype=torch.long)\n",
    "\n",
    "print(make_sentence_vector(['women', 'genders'], word_dict))"
   ]
  },
  {
   "cell_type": "code",
   "execution_count": 10,
   "id": "ce84352f",
   "metadata": {},
   "outputs": [
    {
     "ename": "NameError",
     "evalue": "name 'log_probs' is not defined",
     "output_type": "error",
     "traceback": [
      "\u001b[1;31m---------------------------------------------------------------------------\u001b[0m",
      "\u001b[1;31mNameError\u001b[0m                                 Traceback (most recent call last)",
      "Cell \u001b[1;32mIn[10], line 1\u001b[0m\n\u001b[1;32m----> 1\u001b[0m \u001b[43mlog_probs\u001b[49m\n",
      "\u001b[1;31mNameError\u001b[0m: name 'log_probs' is not defined"
     ]
    }
   ],
   "source": [
    "# log_probs"
   ]
  },
  {
   "cell_type": "code",
   "execution_count": 11,
   "id": "ff64b317",
   "metadata": {},
   "outputs": [
    {
     "data": {
      "text/plain": [
       "tensor([2])"
      ]
     },
     "execution_count": 11,
     "metadata": {},
     "output_type": "execute_result"
    }
   ],
   "source": [
    "torch.tensor([word_dict[target]], dtype=torch.long)\n",
    "#word_dict[target]"
   ]
  },
  {
   "cell_type": "code",
   "execution_count": 21,
   "id": "bee92d92",
   "metadata": {},
   "outputs": [
    {
     "name": "stdout",
     "output_type": "stream",
     "text": [
      "Epoch: 0, Loss: 7.957911968231201\n",
      "Epoch: 1, Loss: 7.952478408813477\n",
      "Epoch: 2, Loss: 7.949704170227051\n",
      "Epoch: 3, Loss: 7.936933994293213\n",
      "Epoch: 4, Loss: 7.935382843017578\n",
      "Epoch: 5, Loss: 7.927143573760986\n",
      "Epoch: 6, Loss: 7.920593738555908\n",
      "Epoch: 7, Loss: 7.912387371063232\n",
      "Epoch: 8, Loss: 7.910103797912598\n",
      "Epoch: 9, Loss: 7.898046016693115\n",
      "Epoch: 10, Loss: 7.8972249031066895\n",
      "Epoch: 11, Loss: 7.887750148773193\n",
      "Epoch: 12, Loss: 7.878573894500732\n",
      "Epoch: 13, Loss: 7.878543376922607\n",
      "Epoch: 14, Loss: 7.866605281829834\n",
      "Epoch: 15, Loss: 7.867684364318848\n",
      "Epoch: 16, Loss: 7.853748321533203\n",
      "Epoch: 17, Loss: 7.8539347648620605\n",
      "Epoch: 18, Loss: 7.844695091247559\n",
      "Epoch: 19, Loss: 7.836401462554932\n",
      "Epoch: 20, Loss: 7.83474588394165\n",
      "Epoch: 21, Loss: 7.827732563018799\n",
      "Epoch: 22, Loss: 7.822360038757324\n",
      "Epoch: 23, Loss: 7.813878059387207\n",
      "Epoch: 24, Loss: 7.814540863037109\n",
      "Epoch: 25, Loss: 7.801180362701416\n",
      "Epoch: 26, Loss: 7.7993645668029785\n",
      "Epoch: 27, Loss: 7.7974629402160645\n",
      "Epoch: 28, Loss: 7.786600589752197\n",
      "Epoch: 29, Loss: 7.784780979156494\n",
      "Epoch: 30, Loss: 7.778101921081543\n",
      "Epoch: 31, Loss: 7.768300533294678\n",
      "Epoch: 32, Loss: 7.768051624298096\n",
      "Epoch: 33, Loss: 7.758727073669434\n",
      "Epoch: 34, Loss: 7.7527875900268555\n",
      "Epoch: 35, Loss: 7.74569034576416\n",
      "Epoch: 36, Loss: 7.745314598083496\n",
      "Epoch: 37, Loss: 7.732632160186768\n",
      "Epoch: 38, Loss: 7.732334136962891\n",
      "Epoch: 39, Loss: 7.729184627532959\n",
      "Epoch: 40, Loss: 7.71911096572876\n",
      "Epoch: 41, Loss: 7.716435432434082\n",
      "Epoch: 42, Loss: 7.70745849609375\n",
      "Epoch: 43, Loss: 7.708175182342529\n",
      "Epoch: 44, Loss: 7.701384544372559\n",
      "Epoch: 45, Loss: 7.698555946350098\n",
      "Epoch: 46, Loss: 7.693210601806641\n",
      "Epoch: 47, Loss: 7.683566093444824\n",
      "Epoch: 48, Loss: 7.677557945251465\n",
      "Epoch: 49, Loss: 7.68030309677124\n",
      "Epoch: 50, Loss: 7.671167373657227\n",
      "Epoch: 51, Loss: 7.666899681091309\n",
      "Epoch: 52, Loss: 7.6643171310424805\n",
      "Epoch: 53, Loss: 7.658159255981445\n",
      "Epoch: 54, Loss: 7.654725551605225\n",
      "Epoch: 55, Loss: 7.644651889801025\n",
      "Epoch: 56, Loss: 7.64417839050293\n",
      "Epoch: 57, Loss: 7.636359214782715\n",
      "Epoch: 58, Loss: 7.635571002960205\n",
      "Epoch: 59, Loss: 7.63182258605957\n",
      "Epoch: 60, Loss: 7.626130104064941\n",
      "Epoch: 61, Loss: 7.620948314666748\n",
      "Epoch: 62, Loss: 7.615962028503418\n",
      "Epoch: 63, Loss: 7.608787536621094\n",
      "Epoch: 64, Loss: 7.6107177734375\n",
      "Epoch: 65, Loss: 7.601670265197754\n",
      "Epoch: 66, Loss: 7.600954055786133\n",
      "Epoch: 67, Loss: 7.5927605628967285\n",
      "Epoch: 68, Loss: 7.589664459228516\n",
      "Epoch: 69, Loss: 7.588179111480713\n",
      "Epoch: 70, Loss: 7.580355644226074\n",
      "Epoch: 71, Loss: 7.580731391906738\n",
      "Epoch: 72, Loss: 7.570520401000977\n",
      "Epoch: 73, Loss: 7.569008827209473\n",
      "Epoch: 74, Loss: 7.569345474243164\n",
      "Epoch: 75, Loss: 7.560422897338867\n",
      "Epoch: 76, Loss: 7.557518005371094\n",
      "Epoch: 77, Loss: 7.555408000946045\n",
      "Epoch: 78, Loss: 7.550771236419678\n",
      "Epoch: 79, Loss: 7.548503398895264\n",
      "Epoch: 80, Loss: 7.538634777069092\n",
      "Epoch: 81, Loss: 7.535701274871826\n",
      "Epoch: 82, Loss: 7.533124923706055\n",
      "Epoch: 83, Loss: 7.528630256652832\n",
      "Epoch: 84, Loss: 7.5338454246521\n",
      "Epoch: 85, Loss: 7.516664981842041\n",
      "Epoch: 86, Loss: 7.516857624053955\n",
      "Epoch: 87, Loss: 7.516304969787598\n",
      "Epoch: 88, Loss: 7.505195617675781\n",
      "Epoch: 89, Loss: 7.504530906677246\n",
      "Epoch: 90, Loss: 7.502275466918945\n",
      "Epoch: 91, Loss: 7.49678373336792\n",
      "Epoch: 92, Loss: 7.495851039886475\n",
      "Epoch: 93, Loss: 7.489798545837402\n",
      "Epoch: 94, Loss: 7.485877990722656\n",
      "Epoch: 95, Loss: 7.486309051513672\n",
      "Epoch: 96, Loss: 7.475287437438965\n",
      "Epoch: 97, Loss: 7.474925994873047\n",
      "Epoch: 98, Loss: 7.478139877319336\n",
      "Epoch: 99, Loss: 7.465898036956787\n",
      "Epoch: 100, Loss: 7.467274188995361\n",
      "Epoch: 101, Loss: 7.459762096405029\n",
      "Epoch: 102, Loss: 7.458870887756348\n",
      "Epoch: 103, Loss: 7.458221435546875\n",
      "Epoch: 104, Loss: 7.45009183883667\n",
      "Epoch: 105, Loss: 7.4439826011657715\n",
      "Epoch: 106, Loss: 7.451419353485107\n",
      "Epoch: 107, Loss: 7.438820838928223\n",
      "Epoch: 108, Loss: 7.4349212646484375\n",
      "Epoch: 109, Loss: 7.436874866485596\n",
      "Epoch: 110, Loss: 7.432338714599609\n",
      "Epoch: 111, Loss: 7.430831432342529\n",
      "Epoch: 112, Loss: 7.424887657165527\n",
      "Epoch: 113, Loss: 7.418236255645752\n",
      "Epoch: 114, Loss: 7.421683311462402\n",
      "Epoch: 115, Loss: 7.417026519775391\n",
      "Epoch: 116, Loss: 7.408515930175781\n",
      "Epoch: 117, Loss: 7.409963130950928\n",
      "Epoch: 118, Loss: 7.407048225402832\n",
      "Epoch: 119, Loss: 7.400708198547363\n",
      "Epoch: 120, Loss: 7.404338359832764\n",
      "Epoch: 121, Loss: 7.396108627319336\n",
      "Epoch: 122, Loss: 7.390378475189209\n",
      "Epoch: 123, Loss: 7.395692348480225\n",
      "Epoch: 124, Loss: 7.387158393859863\n",
      "Epoch: 125, Loss: 7.3821845054626465\n",
      "Epoch: 126, Loss: 7.3837409019470215\n",
      "Epoch: 127, Loss: 7.377485752105713\n",
      "Epoch: 128, Loss: 7.375492572784424\n",
      "Epoch: 129, Loss: 7.37592887878418\n",
      "Epoch: 130, Loss: 7.367212295532227\n",
      "Epoch: 131, Loss: 7.367648601531982\n",
      "Epoch: 132, Loss: 7.36725378036499\n",
      "Epoch: 133, Loss: 7.358841419219971\n",
      "Epoch: 134, Loss: 7.35493803024292\n",
      "Epoch: 135, Loss: 7.356672763824463\n",
      "Epoch: 136, Loss: 7.355031967163086\n",
      "Epoch: 137, Loss: 7.346280097961426\n",
      "Epoch: 138, Loss: 7.347419261932373\n",
      "Epoch: 139, Loss: 7.344876766204834\n",
      "Epoch: 140, Loss: 7.337161540985107\n",
      "Epoch: 141, Loss: 7.343212127685547\n",
      "Epoch: 142, Loss: 7.333682060241699\n",
      "Epoch: 143, Loss: 7.332576751708984\n",
      "Epoch: 144, Loss: 7.336549758911133\n",
      "Epoch: 145, Loss: 7.325160503387451\n",
      "Epoch: 146, Loss: 7.325477600097656\n",
      "Epoch: 147, Loss: 7.322141647338867\n",
      "Epoch: 148, Loss: 7.317211627960205\n",
      "Epoch: 149, Loss: 7.316652297973633\n",
      "Epoch: 150, Loss: 7.324140548706055\n",
      "Epoch: 151, Loss: 7.308506011962891\n",
      "Epoch: 152, Loss: 7.305135726928711\n",
      "Epoch: 153, Loss: 7.306252479553223\n",
      "Epoch: 154, Loss: 7.302570819854736\n",
      "Epoch: 155, Loss: 7.303235054016113\n",
      "Epoch: 156, Loss: 7.304183006286621\n",
      "Epoch: 157, Loss: 7.292055606842041\n",
      "Epoch: 158, Loss: 7.289777755737305\n",
      "Epoch: 159, Loss: 7.2974467277526855\n",
      "Epoch: 160, Loss: 7.291506767272949\n",
      "Epoch: 161, Loss: 7.282040119171143\n",
      "Epoch: 162, Loss: 7.282216548919678\n",
      "Epoch: 163, Loss: 7.277844429016113\n",
      "Epoch: 164, Loss: 7.276279926300049\n",
      "Epoch: 165, Loss: 7.27958869934082\n",
      "Epoch: 166, Loss: 7.271159648895264\n",
      "Epoch: 167, Loss: 7.268043518066406\n",
      "Epoch: 168, Loss: 7.277331829071045\n",
      "Epoch: 169, Loss: 7.264117240905762\n",
      "Epoch: 170, Loss: 7.260464191436768\n",
      "Epoch: 171, Loss: 7.257218837738037\n",
      "Epoch: 172, Loss: 7.2646894454956055\n",
      "Epoch: 173, Loss: 7.257126808166504\n",
      "Epoch: 174, Loss: 7.25483512878418\n",
      "Epoch: 175, Loss: 7.2534637451171875\n",
      "Epoch: 176, Loss: 7.245212078094482\n",
      "Epoch: 177, Loss: 7.245034694671631\n",
      "Epoch: 178, Loss: 7.248678684234619\n",
      "Epoch: 179, Loss: 7.247629165649414\n",
      "Epoch: 180, Loss: 7.235279083251953\n",
      "Epoch: 181, Loss: 7.2368974685668945\n",
      "Epoch: 182, Loss: 7.2349677085876465\n",
      "Epoch: 183, Loss: 7.230013847351074\n",
      "Epoch: 184, Loss: 7.231482028961182\n",
      "Epoch: 185, Loss: 7.225611686706543\n",
      "Epoch: 186, Loss: 7.2268171310424805\n",
      "Epoch: 187, Loss: 7.225566864013672\n",
      "Epoch: 188, Loss: 7.221249580383301\n",
      "Epoch: 189, Loss: 7.216179847717285\n",
      "Epoch: 190, Loss: 7.215756893157959\n",
      "Epoch: 191, Loss: 7.216316223144531\n",
      "Epoch: 192, Loss: 7.209012031555176\n",
      "Epoch: 193, Loss: 7.208662986755371\n",
      "Epoch: 194, Loss: 7.207276821136475\n",
      "Epoch: 195, Loss: 7.206866264343262\n",
      "Epoch: 196, Loss: 7.201531410217285\n",
      "Epoch: 197, Loss: 7.199955463409424\n",
      "Epoch: 198, Loss: 7.203825950622559\n",
      "Epoch: 199, Loss: 7.1947503089904785\n"
     ]
    }
   ],
   "source": [
    "for epoch in range(200):\n",
    "    epoch_loss = 0\n",
    "    for sentence, target in data:\n",
    "        model.zero_grad()\n",
    "        sentence_vector = make_sentence_vector(sentence, word_dict)  \n",
    "        log_probs = model(sentence_vector)\n",
    "        loss = loss_function(log_probs, torch.tensor([word_dict[target]], dtype=torch.long))\n",
    "        loss.backward()\n",
    "        optimizer.step()\n",
    "        epoch_loss += loss.data\n",
    "    print('Epoch: '+str(epoch)+', Loss: ' + str(epoch_loss.item()))"
   ]
  },
  {
   "cell_type": "code",
   "execution_count": 22,
   "id": "75b5797b",
   "metadata": {},
   "outputs": [],
   "source": [
    "def get_predicted_result(input, inverse_word_dict):\n",
    "    index = np.argmax(input)\n",
    "    return inverse_word_dict[index]\n",
    "\n",
    "def predict_sentence(sentence):\n",
    "    sentence_split = sentence.replace('.','').lower().split()\n",
    "    sentence_vector = make_sentence_vector(sentence_split, word_dict)\n",
    "    prediction_array = model(sentence_vector).data.numpy()\n",
    "    print('Preceding Words: {}\\n'.format(sentence_split[:2]))\n",
    "    print('Predicted Word: {}\\n'.format(get_predicted_result(prediction_array[0], inverse_word_dict)))\n",
    "    print('Following Words: {}\\n'.format(sentence_split[2:]))"
   ]
  },
  {
   "cell_type": "code",
   "execution_count": 23,
   "id": "b79cb876",
   "metadata": {},
   "outputs": [
    {
     "name": "stdout",
     "output_type": "stream",
     "text": [
      "Preceding Words: ['strongest', 'man']\n",
      "\n",
      "Predicted Word: awarded\n",
      "\n",
      "Following Words: ['king']\n",
      "\n"
     ]
    }
   ],
   "source": [
    "predict_sentence(\"Strongest man  king\")"
   ]
  },
  {
   "cell_type": "code",
   "execution_count": 30,
   "id": "c9b048f8",
   "metadata": {},
   "outputs": [
    {
     "name": "stdout",
     "output_type": "stream",
     "text": [
      "tensor([[ 0.1867,  0.8547, -1.5341, -1.8490, -1.2475,  0.8279, -0.1355, -0.0759,\n",
      "          1.4680, -1.4173, -1.1656, -0.1468, -0.5002,  1.1620, -0.9542, -0.4903,\n",
      "          0.9888,  0.7630,  0.6220, -1.1513]], grad_fn=<ViewBackward0>)\n"
     ]
    }
   ],
   "source": [
    "print(model.get_word_emdedding('king'))"
   ]
  },
  {
   "cell_type": "code",
   "execution_count": 25,
   "id": "9aaeae68",
   "metadata": {},
   "outputs": [],
   "source": [
    "# Learned W\n",
    "a,b,c,d,_ = model.parameters()\n",
    "#print(W.detach())"
   ]
  },
  {
   "cell_type": "code",
   "execution_count": 26,
   "id": "365f6dab",
   "metadata": {},
   "outputs": [
    {
     "data": {
      "text/plain": [
       "Parameter containing:\n",
       "tensor([[ 9.8391e-02, -5.4832e-01, -9.7706e-01, -1.0541e+00, -1.6154e+00,\n",
       "         -2.2812e+00,  2.1466e+00,  1.6693e-01,  6.3106e-01, -9.9896e-01,\n",
       "          1.2345e+00, -1.6487e-01, -8.0708e-01,  1.1229e+00,  2.7966e-01,\n",
       "         -9.4042e-01,  5.7943e-01, -2.8031e-01,  1.2180e+00,  1.3818e-01],\n",
       "        [-1.6186e+00,  1.5012e-01, -8.7005e-01, -2.5266e-01, -2.1852e+00,\n",
       "          1.8073e+00, -1.7063e+00,  1.0911e+00, -9.2066e-01,  3.3691e-01,\n",
       "         -5.4179e-01, -1.3784e+00,  7.4385e-01,  9.5640e-01,  6.7330e-01,\n",
       "         -1.0277e+00,  6.8878e-01,  3.8293e-01, -9.4246e-01, -4.1882e-02],\n",
       "        [-1.2067e+00,  7.7384e-01,  1.6715e+00,  1.3201e-01, -1.4999e+00,\n",
       "         -5.6968e-01, -4.2839e-01,  6.9384e-01,  7.3682e-01, -5.3587e-01,\n",
       "         -1.0432e+00,  7.4097e-01, -8.0302e-01,  1.3457e+00,  1.2629e+00,\n",
       "         -8.6046e-01,  2.2710e+00, -1.4642e+00,  1.1300e+00,  1.3028e+00],\n",
       "        [ 1.6420e-01, -4.8386e-02,  2.4222e-01, -3.5212e-01, -9.1151e-01,\n",
       "          2.7697e-03,  1.3921e-01, -2.3988e+00, -1.7856e-02, -1.8405e+00,\n",
       "          1.5011e-01,  8.2972e-01, -1.9604e+00, -1.7238e-01,  3.0584e-01,\n",
       "          1.4130e+00, -8.2083e-01,  3.1981e-01,  1.1380e+00, -9.5954e-01],\n",
       "        [-1.0871e+00,  9.7357e-01, -1.3516e+00, -8.2923e-01,  3.8668e-01,\n",
       "          7.2702e-01, -1.0547e-01,  1.9641e+00,  7.5336e-01,  8.8788e-02,\n",
       "         -1.3961e+00, -1.7193e+00,  2.3574e+00,  9.1244e-01,  1.7854e+00,\n",
       "          1.3570e+00,  1.1486e+00, -9.4538e-01,  1.2305e+00, -5.0224e-01],\n",
       "        [ 2.4238e-01,  1.0059e+00,  5.0793e-01, -3.6765e-01, -1.1940e+00,\n",
       "         -1.6320e+00, -1.3806e+00, -1.0293e+00,  5.3411e-01, -6.8297e-01,\n",
       "          2.8515e-01,  1.0835e+00,  5.0742e-01, -9.4372e-01, -2.4333e-01,\n",
       "          1.5685e-01,  1.7660e+00,  6.9056e-03,  6.8037e-01,  1.6448e+00],\n",
       "        [ 5.0299e-01,  1.5401e+00,  3.1473e-01, -1.8371e+00,  1.0092e+00,\n",
       "          1.0380e+00, -2.4830e-01, -7.0962e-01, -8.5378e-01, -1.3138e+00,\n",
       "          1.1324e+00, -2.6845e+00,  1.7097e-02,  8.9562e-01,  1.1594e+00,\n",
       "          1.5465e+00, -3.8959e-01,  4.4757e-01,  7.7477e-01,  3.9285e-01],\n",
       "        [ 1.4514e+00, -5.5683e-01,  4.2594e-01, -9.7100e-01,  1.9711e+00,\n",
       "         -4.6041e-01, -1.9484e-02,  9.8936e-01,  7.6165e-01, -6.1599e-01,\n",
       "          2.3078e-01,  4.2017e-01, -8.5230e-01,  8.7771e-01,  5.1155e-01,\n",
       "          1.1921e+00,  1.9545e+00, -1.3965e+00, -1.8609e-01,  7.4828e-01],\n",
       "        [ 7.9943e-01,  5.9716e-01, -6.0813e-01, -1.7492e+00,  3.4099e-01,\n",
       "         -5.6170e-01, -8.2710e-02, -4.4724e-01,  2.2456e+00, -1.1343e-01,\n",
       "          2.1153e+00,  1.3092e+00, -3.1012e-01,  1.7485e-01, -8.5668e-01,\n",
       "          1.4756e+00,  1.2392e-01,  7.3067e-01, -6.3350e-01, -8.3543e-01],\n",
       "        [-1.2223e-01,  1.8812e+00, -4.5846e-01,  1.7656e+00,  7.5239e-01,\n",
       "          1.1963e+00, -6.1781e-01,  3.2305e-01,  1.0688e+00,  1.1510e-01,\n",
       "          5.5363e-01,  6.8588e-01, -7.2749e-01,  6.3589e-01,  1.8494e-01,\n",
       "         -1.3663e+00,  1.5306e-01, -8.7095e-02, -9.1281e-01,  1.3254e+00],\n",
       "        [ 1.8666e-01,  8.5474e-01, -1.5341e+00, -1.8490e+00, -1.2475e+00,\n",
       "          8.2786e-01, -1.3551e-01, -7.5937e-02,  1.4680e+00, -1.4173e+00,\n",
       "         -1.1656e+00, -1.4677e-01, -5.0019e-01,  1.1620e+00, -9.5419e-01,\n",
       "         -4.9031e-01,  9.8879e-01,  7.6296e-01,  6.2201e-01, -1.1513e+00],\n",
       "        [-1.1246e+00, -1.0567e+00,  1.1566e+00,  3.2986e-01, -1.3782e+00,\n",
       "         -7.3021e-01,  2.4079e+00, -2.5844e-01, -8.6626e-01,  7.3635e-01,\n",
       "         -3.3554e-01,  5.6941e-01, -9.3067e-01,  2.0905e+00, -2.3623e-01,\n",
       "         -1.1997e+00, -1.2034e+00,  3.3268e+00, -3.4829e-01, -9.7589e-01],\n",
       "        [ 8.7377e-01,  3.5810e-01,  1.2752e+00, -3.0572e+00,  2.1982e+00,\n",
       "         -3.0952e-01, -2.2034e-01, -1.3206e+00,  5.5818e-01,  2.9776e-01,\n",
       "          1.0324e-01, -5.8376e-01, -7.2046e-01, -1.7274e+00,  1.7264e+00,\n",
       "          2.4756e+00, -3.8196e-01,  2.4599e-01, -9.5358e-01, -1.0745e+00],\n",
       "        [-6.1275e-01, -1.6544e-01,  2.1503e+00,  5.3952e-01,  9.4171e-03,\n",
       "         -6.5621e-01, -1.9210e-01,  1.7180e+00,  9.4263e-01,  1.9548e-01,\n",
       "          7.9774e-01, -2.5435e+00,  6.3171e-01,  9.0573e-01, -8.6532e-01,\n",
       "          7.4815e-02, -1.8949e+00, -1.9844e-01, -5.4235e-02,  4.9597e-01],\n",
       "        [-7.6869e-01, -1.2535e+00,  1.1244e+00, -1.0222e+00,  6.5238e-01,\n",
       "         -5.2673e-01, -6.1631e-01, -9.4894e-01, -7.0702e-01, -1.8625e+00,\n",
       "          1.0600e+00,  6.1379e-01,  5.3210e-01,  9.9481e-01,  7.2505e-02,\n",
       "          1.7095e+00,  1.2016e+00, -5.0058e-01, -2.3632e+00, -3.6842e-03],\n",
       "        [ 1.7901e+00,  2.4663e+00,  1.0838e+00, -6.2725e-01,  4.5261e-01,\n",
       "          1.4689e+00,  2.3285e-01,  5.3096e-01, -3.8423e-01, -3.7108e-01,\n",
       "          9.3007e-01,  1.7541e+00,  4.1645e-01, -7.6748e-01,  8.7771e-01,\n",
       "          1.9770e-01,  8.3594e-01,  7.7025e-01, -6.4764e-01,  4.6330e-01],\n",
       "        [-1.5189e+00, -3.4750e-01, -7.4968e-02, -1.9981e+00,  2.2173e-01,\n",
       "          9.7914e-02, -8.8759e-01,  3.1800e-01,  4.5909e-01, -4.4845e-01,\n",
       "         -1.2455e+00,  2.0340e-01, -1.2790e+00, -5.2044e-01, -3.5980e-01,\n",
       "         -7.4132e-01, -2.1905e+00,  2.0107e+00, -2.1940e+00, -3.2189e-01]],\n",
       "       requires_grad=True)"
      ]
     },
     "execution_count": 26,
     "metadata": {},
     "output_type": "execute_result"
    }
   ],
   "source": [
    "a"
   ]
  },
  {
   "cell_type": "code",
   "execution_count": 27,
   "id": "75410006",
   "metadata": {},
   "outputs": [],
   "source": [
    "word_list = list(set(text))\n"
   ]
  },
  {
   "cell_type": "code",
   "execution_count": 28,
   "id": "cb03b942",
   "metadata": {},
   "outputs": [
    {
     "data": {
      "image/png": "[encoded data removed]",
      "text/plain": [
       "<Figure size 640x480 with 1 Axes>"
      ]
     },
     "metadata": {},
     "output_type": "display_data"
    }
   ],
   "source": [
    "import matplotlib.pyplot as plt\n",
    "for i, word in enumerate(word_list):\n",
    "    \n",
    "    W = a.detach()\n",
    "    x,y = float(W[i][0]), float(W[i][1])\n",
    "    plt.scatter(x, y)\n",
    "    plt.annotate(word, xy=(x, y), xytext=(5, 2), textcoords='offset points', ha='right', va='bottom')\n",
    "plt.show()"
   ]
  },
  {
   "cell_type": "code",
   "execution_count": null,
   "id": "d506c96b",
   "metadata": {},
   "outputs": [],
   "source": []
  },
  {
   "cell_type": "code",
   "execution_count": null,
   "id": "b8a881f6",
   "metadata": {},
   "outputs": [],
   "source": []
  }
 ],
 "metadata": {
  "kernelspec": {
   "display_name": "Python 3 (ipykernel)",
   "language": "python",
   "name": "python3"
  },
  "language_info": {
   "codemirror_mode": {
    "name": "ipython",
    "version": 3
   },
   "file_extension": ".py",
   "mimetype": "text/x-python",
   "name": "python",
   "nbconvert_exporter": "python",
   "pygments_lexer": "ipython3",
   "version": "3.11.4"
  }
 },
 "nbformat": 4,
 "nbformat_minor": 5
}
